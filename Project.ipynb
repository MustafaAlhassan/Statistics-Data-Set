{
 "cells": [
  {
   "cell_type": "markdown",
   "metadata": {},
   "source": [
    "# Average Time Spent By A User On Social Media - Descriptive Statistics\n",
    "Social media platforms play a significant role in our daily lives. Understanding how much time users dedicate to these platforms is crucial for businesses and researchers alike. This analysis aims to explore the average time spent on social media by users.\n",
    "\n",
    "Data Source:\n",
    "\n",
    "(Assuming access to anonymized data on social media usage)\n",
    "\n",
    "We'll analyze data on social media user activity, potentially collected through surveys, app usage tracking (with user consent), or website analytics.\n",
    "\n",
    "Key Variables:\n",
    "\n",
    "Daily Time Spent: The total duration (minutes/hours) users spend on social media platforms per day.\n",
    "Demographics: Age, gender, location (optional, depending on data availability)\n",
    "Platform Usage: Time spent on specific social media platforms (optional)\n",
    "Descriptive Statistics:\n",
    "\n",
    "To create a profile of the average social media user, we'll employ various descriptive statistical methods:\n",
    "\n",
    "Central Tendency: Calculate the mean, median, and mode of daily time spent to understand the \"average\" usage.\n",
    "Frequency Distribution: Analyze how many users fall into specific time brackets (e.g., 0-30 minutes, 30-60 minutes, etc.)\n",
    "Measures of Dispersion: Calculate the standard deviation and interquartile range to quantify the spread of data points around the average.\n",
    "Analysis by Demographics (if data allows):\n",
    "\n",
    "We can further segment the data by demographics like age and gender to identify potential differences in social media usage patterns. This might reveal groups with higher or lower average usage times.\n",
    "\n",
    "Expected Outcomes:\n",
    "\n",
    "By analyzing these descriptive statistics, we hope to gain insights into:\n",
    "\n",
    "The typical amount of time users dedicate to social media daily.\n",
    "The distribution of usage time across different user segments.\n",
    "Potential variations in social media usage based on demographics.\n",
    "This information can be valuable for social media platforms to optimize user experience and engagement. Additionally, businesses can leverage this data to tailor their social media marketing strategies to target audiences effectively."
   ]
  },
  {
   "cell_type": "markdown",
   "metadata": {},
   "source": [
    "## Team members<br>\n",
    "- Faraidun Bahaden\n",
    "- Mustafa Musab\n",
    "- Abdulazeez Qusay \n",
    "- Rekan Yunis\n",
    "\n",
    "# questions \n",
    "- age\n",
    "- gendar\n",
    "- stage\n",
    "- time_spent\n",
    "- location\n",
    "- interest \n",
    "- do you use soical media ? how many houar per a day?\n",
    "- Does your use of social media have negative effects?"
   ]
  },
  {
   "cell_type": "markdown",
   "metadata": {},
   "source": [
    "<img src=\"4789176.jpg\" alt=\"\" height=\"500\">"
   ]
  },
  {
   "cell_type": "code",
   "execution_count": 1,
   "metadata": {},
   "outputs": [],
   "source": [
    "import pandas as pd\n",
    "import numpy as np\n",
    "import scipy.stats as st\n",
    "import matplotlib.pyplot as plt\n",
    "import seaborn as sns"
   ]
  },
  {
   "cell_type": "code",
   "execution_count": 4,
   "metadata": {},
   "outputs": [],
   "source": [
    "mydata = pd.read_csv('Social_media_data.csv')"
   ]
  },
  {
   "cell_type": "code",
   "execution_count": 5,
   "metadata": {},
   "outputs": [
    {
     "data": {
      "text/html": [
       "<div>\n",
       "<style scoped>\n",
       "    .dataframe tbody tr th:only-of-type {\n",
       "        vertical-align: middle;\n",
       "    }\n",
       "\n",
       "    .dataframe tbody tr th {\n",
       "        vertical-align: top;\n",
       "    }\n",
       "\n",
       "    .dataframe thead th {\n",
       "        text-align: right;\n",
       "    }\n",
       "</style>\n",
       "<table border=\"1\" class=\"dataframe\">\n",
       "  <thead>\n",
       "    <tr style=\"text-align: right;\">\n",
       "      <th></th>\n",
       "      <th>age</th>\n",
       "      <th>gender</th>\n",
       "      <th>time_spent</th>\n",
       "      <th>platform</th>\n",
       "      <th>interests</th>\n",
       "      <th>location</th>\n",
       "      <th>demographics</th>\n",
       "      <th>profession</th>\n",
       "      <th>income</th>\n",
       "      <th>indebt</th>\n",
       "      <th>isHomeOwner</th>\n",
       "      <th>Owns_Car</th>\n",
       "    </tr>\n",
       "  </thead>\n",
       "  <tbody>\n",
       "    <tr>\n",
       "      <th>0</th>\n",
       "      <td>56</td>\n",
       "      <td>male</td>\n",
       "      <td>3</td>\n",
       "      <td>Instagram</td>\n",
       "      <td>Sports</td>\n",
       "      <td>United Kingdom</td>\n",
       "      <td>Urban</td>\n",
       "      <td>Software Engineer</td>\n",
       "      <td>19774</td>\n",
       "      <td>True</td>\n",
       "      <td>False</td>\n",
       "      <td>False</td>\n",
       "    </tr>\n",
       "    <tr>\n",
       "      <th>1</th>\n",
       "      <td>46</td>\n",
       "      <td>female</td>\n",
       "      <td>2</td>\n",
       "      <td>Facebook</td>\n",
       "      <td>Travel</td>\n",
       "      <td>United Kingdom</td>\n",
       "      <td>Urban</td>\n",
       "      <td>Student</td>\n",
       "      <td>10564</td>\n",
       "      <td>True</td>\n",
       "      <td>True</td>\n",
       "      <td>True</td>\n",
       "    </tr>\n",
       "    <tr>\n",
       "      <th>2</th>\n",
       "      <td>32</td>\n",
       "      <td>female</td>\n",
       "      <td>8</td>\n",
       "      <td>Instagram</td>\n",
       "      <td>Sports</td>\n",
       "      <td>Australia</td>\n",
       "      <td>Sub_Urban</td>\n",
       "      <td>Marketer Manager</td>\n",
       "      <td>13258</td>\n",
       "      <td>False</td>\n",
       "      <td>False</td>\n",
       "      <td>False</td>\n",
       "    </tr>\n",
       "    <tr>\n",
       "      <th>3</th>\n",
       "      <td>60</td>\n",
       "      <td>male</td>\n",
       "      <td>5</td>\n",
       "      <td>Instagram</td>\n",
       "      <td>Travel</td>\n",
       "      <td>United Kingdom</td>\n",
       "      <td>Urban</td>\n",
       "      <td>Student</td>\n",
       "      <td>12500</td>\n",
       "      <td>False</td>\n",
       "      <td>True</td>\n",
       "      <td>False</td>\n",
       "    </tr>\n",
       "    <tr>\n",
       "      <th>4</th>\n",
       "      <td>25</td>\n",
       "      <td>female</td>\n",
       "      <td>1</td>\n",
       "      <td>Instagram</td>\n",
       "      <td>Lifestlye</td>\n",
       "      <td>Australia</td>\n",
       "      <td>Urban</td>\n",
       "      <td>Software Engineer</td>\n",
       "      <td>14566</td>\n",
       "      <td>False</td>\n",
       "      <td>True</td>\n",
       "      <td>True</td>\n",
       "    </tr>\n",
       "  </tbody>\n",
       "</table>\n",
       "</div>"
      ],
      "text/plain": [
       "   age  gender  time_spent   platform  interests        location demographics  \\\n",
       "0   56    male           3  Instagram     Sports  United Kingdom        Urban   \n",
       "1   46  female           2   Facebook     Travel  United Kingdom        Urban   \n",
       "2   32  female           8  Instagram     Sports       Australia    Sub_Urban   \n",
       "3   60    male           5  Instagram     Travel  United Kingdom        Urban   \n",
       "4   25  female           1  Instagram  Lifestlye       Australia        Urban   \n",
       "\n",
       "          profession  income  indebt  isHomeOwner  Owns_Car  \n",
       "0  Software Engineer   19774    True        False     False  \n",
       "1            Student   10564    True         True      True  \n",
       "2   Marketer Manager   13258   False        False     False  \n",
       "3            Student   12500   False         True     False  \n",
       "4  Software Engineer   14566   False         True      True  "
      ]
     },
     "execution_count": 5,
     "metadata": {},
     "output_type": "execute_result"
    }
   ],
   "source": [
    "mydata.head(5)"
   ]
  },
  {
   "cell_type": "code",
   "execution_count": 6,
   "metadata": {},
   "outputs": [
    {
     "data": {
      "text/html": [
       "<div>\n",
       "<style scoped>\n",
       "    .dataframe tbody tr th:only-of-type {\n",
       "        vertical-align: middle;\n",
       "    }\n",
       "\n",
       "    .dataframe tbody tr th {\n",
       "        vertical-align: top;\n",
       "    }\n",
       "\n",
       "    .dataframe thead th {\n",
       "        text-align: right;\n",
       "    }\n",
       "</style>\n",
       "<table border=\"1\" class=\"dataframe\">\n",
       "  <thead>\n",
       "    <tr style=\"text-align: right;\">\n",
       "      <th></th>\n",
       "      <th>age</th>\n",
       "      <th>gender</th>\n",
       "      <th>time_spent</th>\n",
       "      <th>platform</th>\n",
       "      <th>interests</th>\n",
       "      <th>location</th>\n",
       "      <th>demographics</th>\n",
       "      <th>profession</th>\n",
       "      <th>income</th>\n",
       "      <th>indebt</th>\n",
       "      <th>isHomeOwner</th>\n",
       "      <th>Owns_Car</th>\n",
       "    </tr>\n",
       "  </thead>\n",
       "  <tbody>\n",
       "    <tr>\n",
       "      <th>995</th>\n",
       "      <td>22</td>\n",
       "      <td>female</td>\n",
       "      <td>8</td>\n",
       "      <td>Instagram</td>\n",
       "      <td>Lifestlye</td>\n",
       "      <td>United Kingdom</td>\n",
       "      <td>Rural</td>\n",
       "      <td>Marketer Manager</td>\n",
       "      <td>18536</td>\n",
       "      <td>False</td>\n",
       "      <td>True</td>\n",
       "      <td>False</td>\n",
       "    </tr>\n",
       "    <tr>\n",
       "      <th>996</th>\n",
       "      <td>40</td>\n",
       "      <td>male</td>\n",
       "      <td>6</td>\n",
       "      <td>YouTube</td>\n",
       "      <td>Travel</td>\n",
       "      <td>United Kingdom</td>\n",
       "      <td>Rural</td>\n",
       "      <td>Software Engineer</td>\n",
       "      <td>12711</td>\n",
       "      <td>True</td>\n",
       "      <td>False</td>\n",
       "      <td>False</td>\n",
       "    </tr>\n",
       "    <tr>\n",
       "      <th>997</th>\n",
       "      <td>27</td>\n",
       "      <td>male</td>\n",
       "      <td>5</td>\n",
       "      <td>YouTube</td>\n",
       "      <td>Travel</td>\n",
       "      <td>United Kingdom</td>\n",
       "      <td>Rural</td>\n",
       "      <td>Student</td>\n",
       "      <td>17595</td>\n",
       "      <td>True</td>\n",
       "      <td>False</td>\n",
       "      <td>True</td>\n",
       "    </tr>\n",
       "    <tr>\n",
       "      <th>998</th>\n",
       "      <td>61</td>\n",
       "      <td>female</td>\n",
       "      <td>4</td>\n",
       "      <td>YouTube</td>\n",
       "      <td>Sports</td>\n",
       "      <td>Australia</td>\n",
       "      <td>Sub_Urban</td>\n",
       "      <td>Marketer Manager</td>\n",
       "      <td>16273</td>\n",
       "      <td>True</td>\n",
       "      <td>True</td>\n",
       "      <td>False</td>\n",
       "    </tr>\n",
       "    <tr>\n",
       "      <th>999</th>\n",
       "      <td>19</td>\n",
       "      <td>male</td>\n",
       "      <td>8</td>\n",
       "      <td>YouTube</td>\n",
       "      <td>Travel</td>\n",
       "      <td>Australia</td>\n",
       "      <td>Rural</td>\n",
       "      <td>Student</td>\n",
       "      <td>16284</td>\n",
       "      <td>False</td>\n",
       "      <td>True</td>\n",
       "      <td>False</td>\n",
       "    </tr>\n",
       "  </tbody>\n",
       "</table>\n",
       "</div>"
      ],
      "text/plain": [
       "     age  gender  time_spent   platform  interests        location  \\\n",
       "995   22  female           8  Instagram  Lifestlye  United Kingdom   \n",
       "996   40    male           6    YouTube     Travel  United Kingdom   \n",
       "997   27    male           5    YouTube     Travel  United Kingdom   \n",
       "998   61  female           4    YouTube     Sports       Australia   \n",
       "999   19    male           8    YouTube     Travel       Australia   \n",
       "\n",
       "    demographics         profession  income  indebt  isHomeOwner  Owns_Car  \n",
       "995        Rural   Marketer Manager   18536   False         True     False  \n",
       "996        Rural  Software Engineer   12711    True        False     False  \n",
       "997        Rural            Student   17595    True        False      True  \n",
       "998    Sub_Urban   Marketer Manager   16273    True         True     False  \n",
       "999        Rural            Student   16284   False         True     False  "
      ]
     },
     "execution_count": 6,
     "metadata": {},
     "output_type": "execute_result"
    }
   ],
   "source": [
    "mydata.tail(5)"
   ]
  },
  {
   "cell_type": "code",
   "execution_count": 7,
   "metadata": {},
   "outputs": [
    {
     "name": "stdout",
     "output_type": "stream",
     "text": [
      "<class 'pandas.core.frame.DataFrame'>\n",
      "RangeIndex: 1000 entries, 0 to 999\n",
      "Data columns (total 12 columns):\n",
      " #   Column        Non-Null Count  Dtype \n",
      "---  ------        --------------  ----- \n",
      " 0   age           1000 non-null   int64 \n",
      " 1   gender        1000 non-null   object\n",
      " 2   time_spent    1000 non-null   int64 \n",
      " 3   platform      1000 non-null   object\n",
      " 4   interests     1000 non-null   object\n",
      " 5   location      1000 non-null   object\n",
      " 6   demographics  1000 non-null   object\n",
      " 7   profession    1000 non-null   object\n",
      " 8   income        1000 non-null   int64 \n",
      " 9   indebt        1000 non-null   bool  \n",
      " 10  isHomeOwner   1000 non-null   bool  \n",
      " 11  Owns_Car      1000 non-null   bool  \n",
      "dtypes: bool(3), int64(3), object(6)\n",
      "memory usage: 73.4+ KB\n"
     ]
    }
   ],
   "source": [
    "mydata.info()"
   ]
  },
  {
   "cell_type": "code",
   "execution_count": 8,
   "metadata": {},
   "outputs": [
    {
     "data": {
      "text/html": [
       "<div>\n",
       "<style scoped>\n",
       "    .dataframe tbody tr th:only-of-type {\n",
       "        vertical-align: middle;\n",
       "    }\n",
       "\n",
       "    .dataframe tbody tr th {\n",
       "        vertical-align: top;\n",
       "    }\n",
       "\n",
       "    .dataframe thead th {\n",
       "        text-align: right;\n",
       "    }\n",
       "</style>\n",
       "<table border=\"1\" class=\"dataframe\">\n",
       "  <thead>\n",
       "    <tr style=\"text-align: right;\">\n",
       "      <th></th>\n",
       "      <th>age</th>\n",
       "      <th>time_spent</th>\n",
       "      <th>income</th>\n",
       "    </tr>\n",
       "  </thead>\n",
       "  <tbody>\n",
       "    <tr>\n",
       "      <th>count</th>\n",
       "      <td>1000.000000</td>\n",
       "      <td>1000.000000</td>\n",
       "      <td>1000.000000</td>\n",
       "    </tr>\n",
       "    <tr>\n",
       "      <th>mean</th>\n",
       "      <td>40.986000</td>\n",
       "      <td>5.029000</td>\n",
       "      <td>15014.823000</td>\n",
       "    </tr>\n",
       "    <tr>\n",
       "      <th>std</th>\n",
       "      <td>13.497852</td>\n",
       "      <td>2.537834</td>\n",
       "      <td>2958.628221</td>\n",
       "    </tr>\n",
       "    <tr>\n",
       "      <th>min</th>\n",
       "      <td>18.000000</td>\n",
       "      <td>1.000000</td>\n",
       "      <td>10012.000000</td>\n",
       "    </tr>\n",
       "    <tr>\n",
       "      <th>25%</th>\n",
       "      <td>29.000000</td>\n",
       "      <td>3.000000</td>\n",
       "      <td>12402.250000</td>\n",
       "    </tr>\n",
       "    <tr>\n",
       "      <th>50%</th>\n",
       "      <td>42.000000</td>\n",
       "      <td>5.000000</td>\n",
       "      <td>14904.500000</td>\n",
       "    </tr>\n",
       "    <tr>\n",
       "      <th>75%</th>\n",
       "      <td>52.000000</td>\n",
       "      <td>7.000000</td>\n",
       "      <td>17674.250000</td>\n",
       "    </tr>\n",
       "    <tr>\n",
       "      <th>max</th>\n",
       "      <td>64.000000</td>\n",
       "      <td>9.000000</td>\n",
       "      <td>19980.000000</td>\n",
       "    </tr>\n",
       "  </tbody>\n",
       "</table>\n",
       "</div>"
      ],
      "text/plain": [
       "               age   time_spent        income\n",
       "count  1000.000000  1000.000000   1000.000000\n",
       "mean     40.986000     5.029000  15014.823000\n",
       "std      13.497852     2.537834   2958.628221\n",
       "min      18.000000     1.000000  10012.000000\n",
       "25%      29.000000     3.000000  12402.250000\n",
       "50%      42.000000     5.000000  14904.500000\n",
       "75%      52.000000     7.000000  17674.250000\n",
       "max      64.000000     9.000000  19980.000000"
      ]
     },
     "execution_count": 8,
     "metadata": {},
     "output_type": "execute_result"
    }
   ],
   "source": [
    "mydata.describe()"
   ]
  },
  {
   "cell_type": "code",
   "execution_count": 9,
   "metadata": {},
   "outputs": [
    {
     "data": {
      "image/png": "[encoded data removed]",
      "text/plain": [
       "<Figure size 500x500 with 4 Axes>"
      ]
     },
     "metadata": {},
     "output_type": "display_data"
    }
   ],
   "source": [
    "mydata.hist(figsize=(5,5))\n",
    "plt.show()"
   ]
  },
  {
   "cell_type": "code",
   "execution_count": 17,
   "metadata": {},
   "outputs": [
    {
     "data": {
      "image/png": "[encoded data removed]",
      "text/plain": [
       "<Figure size 500x500 with 4 Axes>"
      ]
     },
     "metadata": {},
     "output_type": "display_data"
    }
   ],
   "source": [
    "mydata.hist(['age'],['platform'], figsize=(5,5))\n",
    "plt.show()"
   ]
  },
  {
   "cell_type": "code",
   "execution_count": 14,
   "metadata": {},
   "outputs": [
    {
     "data": {
      "text/plain": [
       "<Axes: xlabel='platform', ylabel='age'>"
      ]
     },
     "execution_count": 14,
     "metadata": {},
     "output_type": "execute_result"
    },
    {
     "data": {
      "image/png": "[encoded data removed]",
      "text/plain": [
       "<Figure size 640x480 with 1 Axes>"
      ]
     },
     "metadata": {},
     "output_type": "display_data"
    }
   ],
   "source": [
    "sns.boxplot(x=\"platform\", y=\"age\", data=mydata)"
   ]
  },
  {
   "cell_type": "code",
   "execution_count": 24,
   "metadata": {},
   "outputs": [
    {
     "data": {
      "text/html": [
       "<div>\n",
       "<style scoped>\n",
       "    .dataframe tbody tr th:only-of-type {\n",
       "        vertical-align: middle;\n",
       "    }\n",
       "\n",
       "    .dataframe tbody tr th {\n",
       "        vertical-align: top;\n",
       "    }\n",
       "\n",
       "    .dataframe thead th {\n",
       "        text-align: right;\n",
       "    }\n",
       "</style>\n",
       "<table border=\"1\" class=\"dataframe\">\n",
       "  <thead>\n",
       "    <tr style=\"text-align: right;\">\n",
       "      <th>time_spent</th>\n",
       "      <th>1</th>\n",
       "      <th>2</th>\n",
       "      <th>3</th>\n",
       "      <th>4</th>\n",
       "      <th>5</th>\n",
       "      <th>6</th>\n",
       "      <th>7</th>\n",
       "      <th>8</th>\n",
       "      <th>9</th>\n",
       "    </tr>\n",
       "    <tr>\n",
       "      <th>age</th>\n",
       "      <th></th>\n",
       "      <th></th>\n",
       "      <th></th>\n",
       "      <th></th>\n",
       "      <th></th>\n",
       "      <th></th>\n",
       "      <th></th>\n",
       "      <th></th>\n",
       "      <th></th>\n",
       "    </tr>\n",
       "  </thead>\n",
       "  <tbody>\n",
       "    <tr>\n",
       "      <th>18</th>\n",
       "      <td>0</td>\n",
       "      <td>4</td>\n",
       "      <td>5</td>\n",
       "      <td>1</td>\n",
       "      <td>2</td>\n",
       "      <td>5</td>\n",
       "      <td>3</td>\n",
       "      <td>2</td>\n",
       "      <td>3</td>\n",
       "    </tr>\n",
       "    <tr>\n",
       "      <th>19</th>\n",
       "      <td>0</td>\n",
       "      <td>0</td>\n",
       "      <td>3</td>\n",
       "      <td>3</td>\n",
       "      <td>5</td>\n",
       "      <td>3</td>\n",
       "      <td>5</td>\n",
       "      <td>2</td>\n",
       "      <td>3</td>\n",
       "    </tr>\n",
       "    <tr>\n",
       "      <th>20</th>\n",
       "      <td>2</td>\n",
       "      <td>0</td>\n",
       "      <td>1</td>\n",
       "      <td>2</td>\n",
       "      <td>4</td>\n",
       "      <td>5</td>\n",
       "      <td>7</td>\n",
       "      <td>1</td>\n",
       "      <td>2</td>\n",
       "    </tr>\n",
       "    <tr>\n",
       "      <th>21</th>\n",
       "      <td>3</td>\n",
       "      <td>1</td>\n",
       "      <td>2</td>\n",
       "      <td>2</td>\n",
       "      <td>1</td>\n",
       "      <td>2</td>\n",
       "      <td>2</td>\n",
       "      <td>3</td>\n",
       "      <td>3</td>\n",
       "    </tr>\n",
       "    <tr>\n",
       "      <th>22</th>\n",
       "      <td>0</td>\n",
       "      <td>4</td>\n",
       "      <td>4</td>\n",
       "      <td>3</td>\n",
       "      <td>4</td>\n",
       "      <td>2</td>\n",
       "      <td>1</td>\n",
       "      <td>5</td>\n",
       "      <td>2</td>\n",
       "    </tr>\n",
       "    <tr>\n",
       "      <th>23</th>\n",
       "      <td>1</td>\n",
       "      <td>4</td>\n",
       "      <td>7</td>\n",
       "      <td>4</td>\n",
       "      <td>0</td>\n",
       "      <td>3</td>\n",
       "      <td>1</td>\n",
       "      <td>0</td>\n",
       "      <td>3</td>\n",
       "    </tr>\n",
       "    <tr>\n",
       "      <th>24</th>\n",
       "      <td>2</td>\n",
       "      <td>0</td>\n",
       "      <td>1</td>\n",
       "      <td>1</td>\n",
       "      <td>3</td>\n",
       "      <td>2</td>\n",
       "      <td>2</td>\n",
       "      <td>2</td>\n",
       "      <td>1</td>\n",
       "    </tr>\n",
       "    <tr>\n",
       "      <th>25</th>\n",
       "      <td>3</td>\n",
       "      <td>3</td>\n",
       "      <td>1</td>\n",
       "      <td>2</td>\n",
       "      <td>7</td>\n",
       "      <td>2</td>\n",
       "      <td>2</td>\n",
       "      <td>1</td>\n",
       "      <td>2</td>\n",
       "    </tr>\n",
       "    <tr>\n",
       "      <th>26</th>\n",
       "      <td>3</td>\n",
       "      <td>1</td>\n",
       "      <td>4</td>\n",
       "      <td>3</td>\n",
       "      <td>2</td>\n",
       "      <td>1</td>\n",
       "      <td>1</td>\n",
       "      <td>2</td>\n",
       "      <td>1</td>\n",
       "    </tr>\n",
       "    <tr>\n",
       "      <th>27</th>\n",
       "      <td>1</td>\n",
       "      <td>4</td>\n",
       "      <td>2</td>\n",
       "      <td>3</td>\n",
       "      <td>3</td>\n",
       "      <td>1</td>\n",
       "      <td>0</td>\n",
       "      <td>0</td>\n",
       "      <td>4</td>\n",
       "    </tr>\n",
       "    <tr>\n",
       "      <th>28</th>\n",
       "      <td>3</td>\n",
       "      <td>2</td>\n",
       "      <td>0</td>\n",
       "      <td>2</td>\n",
       "      <td>2</td>\n",
       "      <td>0</td>\n",
       "      <td>4</td>\n",
       "      <td>4</td>\n",
       "      <td>3</td>\n",
       "    </tr>\n",
       "    <tr>\n",
       "      <th>29</th>\n",
       "      <td>6</td>\n",
       "      <td>1</td>\n",
       "      <td>2</td>\n",
       "      <td>1</td>\n",
       "      <td>2</td>\n",
       "      <td>1</td>\n",
       "      <td>3</td>\n",
       "      <td>4</td>\n",
       "      <td>2</td>\n",
       "    </tr>\n",
       "    <tr>\n",
       "      <th>30</th>\n",
       "      <td>1</td>\n",
       "      <td>2</td>\n",
       "      <td>2</td>\n",
       "      <td>3</td>\n",
       "      <td>3</td>\n",
       "      <td>1</td>\n",
       "      <td>2</td>\n",
       "      <td>3</td>\n",
       "      <td>1</td>\n",
       "    </tr>\n",
       "    <tr>\n",
       "      <th>31</th>\n",
       "      <td>1</td>\n",
       "      <td>4</td>\n",
       "      <td>3</td>\n",
       "      <td>3</td>\n",
       "      <td>3</td>\n",
       "      <td>1</td>\n",
       "      <td>2</td>\n",
       "      <td>2</td>\n",
       "      <td>0</td>\n",
       "    </tr>\n",
       "    <tr>\n",
       "      <th>32</th>\n",
       "      <td>2</td>\n",
       "      <td>3</td>\n",
       "      <td>1</td>\n",
       "      <td>3</td>\n",
       "      <td>3</td>\n",
       "      <td>3</td>\n",
       "      <td>2</td>\n",
       "      <td>1</td>\n",
       "      <td>0</td>\n",
       "    </tr>\n",
       "    <tr>\n",
       "      <th>33</th>\n",
       "      <td>2</td>\n",
       "      <td>4</td>\n",
       "      <td>0</td>\n",
       "      <td>3</td>\n",
       "      <td>3</td>\n",
       "      <td>2</td>\n",
       "      <td>1</td>\n",
       "      <td>5</td>\n",
       "      <td>1</td>\n",
       "    </tr>\n",
       "    <tr>\n",
       "      <th>34</th>\n",
       "      <td>0</td>\n",
       "      <td>3</td>\n",
       "      <td>3</td>\n",
       "      <td>2</td>\n",
       "      <td>6</td>\n",
       "      <td>0</td>\n",
       "      <td>2</td>\n",
       "      <td>1</td>\n",
       "      <td>5</td>\n",
       "    </tr>\n",
       "    <tr>\n",
       "      <th>35</th>\n",
       "      <td>2</td>\n",
       "      <td>3</td>\n",
       "      <td>1</td>\n",
       "      <td>0</td>\n",
       "      <td>2</td>\n",
       "      <td>4</td>\n",
       "      <td>0</td>\n",
       "      <td>1</td>\n",
       "      <td>3</td>\n",
       "    </tr>\n",
       "    <tr>\n",
       "      <th>36</th>\n",
       "      <td>4</td>\n",
       "      <td>2</td>\n",
       "      <td>2</td>\n",
       "      <td>1</td>\n",
       "      <td>3</td>\n",
       "      <td>1</td>\n",
       "      <td>2</td>\n",
       "      <td>1</td>\n",
       "      <td>4</td>\n",
       "    </tr>\n",
       "    <tr>\n",
       "      <th>37</th>\n",
       "      <td>3</td>\n",
       "      <td>2</td>\n",
       "      <td>1</td>\n",
       "      <td>1</td>\n",
       "      <td>1</td>\n",
       "      <td>6</td>\n",
       "      <td>1</td>\n",
       "      <td>1</td>\n",
       "      <td>2</td>\n",
       "    </tr>\n",
       "    <tr>\n",
       "      <th>38</th>\n",
       "      <td>2</td>\n",
       "      <td>0</td>\n",
       "      <td>1</td>\n",
       "      <td>3</td>\n",
       "      <td>3</td>\n",
       "      <td>1</td>\n",
       "      <td>3</td>\n",
       "      <td>3</td>\n",
       "      <td>3</td>\n",
       "    </tr>\n",
       "    <tr>\n",
       "      <th>39</th>\n",
       "      <td>0</td>\n",
       "      <td>5</td>\n",
       "      <td>0</td>\n",
       "      <td>2</td>\n",
       "      <td>2</td>\n",
       "      <td>2</td>\n",
       "      <td>4</td>\n",
       "      <td>4</td>\n",
       "      <td>3</td>\n",
       "    </tr>\n",
       "    <tr>\n",
       "      <th>40</th>\n",
       "      <td>2</td>\n",
       "      <td>2</td>\n",
       "      <td>3</td>\n",
       "      <td>5</td>\n",
       "      <td>1</td>\n",
       "      <td>4</td>\n",
       "      <td>3</td>\n",
       "      <td>1</td>\n",
       "      <td>3</td>\n",
       "    </tr>\n",
       "    <tr>\n",
       "      <th>41</th>\n",
       "      <td>2</td>\n",
       "      <td>2</td>\n",
       "      <td>1</td>\n",
       "      <td>2</td>\n",
       "      <td>4</td>\n",
       "      <td>5</td>\n",
       "      <td>3</td>\n",
       "      <td>1</td>\n",
       "      <td>5</td>\n",
       "    </tr>\n",
       "    <tr>\n",
       "      <th>42</th>\n",
       "      <td>2</td>\n",
       "      <td>3</td>\n",
       "      <td>2</td>\n",
       "      <td>0</td>\n",
       "      <td>4</td>\n",
       "      <td>7</td>\n",
       "      <td>0</td>\n",
       "      <td>4</td>\n",
       "      <td>2</td>\n",
       "    </tr>\n",
       "    <tr>\n",
       "      <th>43</th>\n",
       "      <td>3</td>\n",
       "      <td>2</td>\n",
       "      <td>4</td>\n",
       "      <td>8</td>\n",
       "      <td>5</td>\n",
       "      <td>1</td>\n",
       "      <td>4</td>\n",
       "      <td>2</td>\n",
       "      <td>4</td>\n",
       "    </tr>\n",
       "    <tr>\n",
       "      <th>44</th>\n",
       "      <td>2</td>\n",
       "      <td>0</td>\n",
       "      <td>0</td>\n",
       "      <td>4</td>\n",
       "      <td>1</td>\n",
       "      <td>2</td>\n",
       "      <td>2</td>\n",
       "      <td>4</td>\n",
       "      <td>1</td>\n",
       "    </tr>\n",
       "    <tr>\n",
       "      <th>45</th>\n",
       "      <td>4</td>\n",
       "      <td>2</td>\n",
       "      <td>2</td>\n",
       "      <td>4</td>\n",
       "      <td>5</td>\n",
       "      <td>4</td>\n",
       "      <td>6</td>\n",
       "      <td>2</td>\n",
       "      <td>1</td>\n",
       "    </tr>\n",
       "    <tr>\n",
       "      <th>46</th>\n",
       "      <td>0</td>\n",
       "      <td>8</td>\n",
       "      <td>6</td>\n",
       "      <td>1</td>\n",
       "      <td>2</td>\n",
       "      <td>0</td>\n",
       "      <td>0</td>\n",
       "      <td>2</td>\n",
       "      <td>0</td>\n",
       "    </tr>\n",
       "    <tr>\n",
       "      <th>47</th>\n",
       "      <td>3</td>\n",
       "      <td>4</td>\n",
       "      <td>1</td>\n",
       "      <td>2</td>\n",
       "      <td>1</td>\n",
       "      <td>1</td>\n",
       "      <td>4</td>\n",
       "      <td>1</td>\n",
       "      <td>4</td>\n",
       "    </tr>\n",
       "    <tr>\n",
       "      <th>48</th>\n",
       "      <td>1</td>\n",
       "      <td>0</td>\n",
       "      <td>0</td>\n",
       "      <td>1</td>\n",
       "      <td>3</td>\n",
       "      <td>4</td>\n",
       "      <td>2</td>\n",
       "      <td>4</td>\n",
       "      <td>1</td>\n",
       "    </tr>\n",
       "    <tr>\n",
       "      <th>49</th>\n",
       "      <td>0</td>\n",
       "      <td>4</td>\n",
       "      <td>2</td>\n",
       "      <td>1</td>\n",
       "      <td>4</td>\n",
       "      <td>1</td>\n",
       "      <td>7</td>\n",
       "      <td>5</td>\n",
       "      <td>1</td>\n",
       "    </tr>\n",
       "    <tr>\n",
       "      <th>50</th>\n",
       "      <td>2</td>\n",
       "      <td>5</td>\n",
       "      <td>2</td>\n",
       "      <td>6</td>\n",
       "      <td>1</td>\n",
       "      <td>2</td>\n",
       "      <td>5</td>\n",
       "      <td>4</td>\n",
       "      <td>3</td>\n",
       "    </tr>\n",
       "    <tr>\n",
       "      <th>51</th>\n",
       "      <td>2</td>\n",
       "      <td>2</td>\n",
       "      <td>3</td>\n",
       "      <td>2</td>\n",
       "      <td>2</td>\n",
       "      <td>1</td>\n",
       "      <td>0</td>\n",
       "      <td>5</td>\n",
       "      <td>1</td>\n",
       "    </tr>\n",
       "    <tr>\n",
       "      <th>52</th>\n",
       "      <td>5</td>\n",
       "      <td>3</td>\n",
       "      <td>4</td>\n",
       "      <td>4</td>\n",
       "      <td>1</td>\n",
       "      <td>2</td>\n",
       "      <td>1</td>\n",
       "      <td>5</td>\n",
       "      <td>3</td>\n",
       "    </tr>\n",
       "    <tr>\n",
       "      <th>53</th>\n",
       "      <td>0</td>\n",
       "      <td>2</td>\n",
       "      <td>3</td>\n",
       "      <td>2</td>\n",
       "      <td>5</td>\n",
       "      <td>3</td>\n",
       "      <td>1</td>\n",
       "      <td>2</td>\n",
       "      <td>5</td>\n",
       "    </tr>\n",
       "    <tr>\n",
       "      <th>54</th>\n",
       "      <td>3</td>\n",
       "      <td>4</td>\n",
       "      <td>4</td>\n",
       "      <td>6</td>\n",
       "      <td>2</td>\n",
       "      <td>0</td>\n",
       "      <td>0</td>\n",
       "      <td>5</td>\n",
       "      <td>3</td>\n",
       "    </tr>\n",
       "    <tr>\n",
       "      <th>55</th>\n",
       "      <td>2</td>\n",
       "      <td>0</td>\n",
       "      <td>3</td>\n",
       "      <td>2</td>\n",
       "      <td>1</td>\n",
       "      <td>1</td>\n",
       "      <td>2</td>\n",
       "      <td>1</td>\n",
       "      <td>4</td>\n",
       "    </tr>\n",
       "    <tr>\n",
       "      <th>56</th>\n",
       "      <td>1</td>\n",
       "      <td>3</td>\n",
       "      <td>5</td>\n",
       "      <td>4</td>\n",
       "      <td>4</td>\n",
       "      <td>1</td>\n",
       "      <td>2</td>\n",
       "      <td>2</td>\n",
       "      <td>3</td>\n",
       "    </tr>\n",
       "    <tr>\n",
       "      <th>57</th>\n",
       "      <td>2</td>\n",
       "      <td>3</td>\n",
       "      <td>0</td>\n",
       "      <td>3</td>\n",
       "      <td>1</td>\n",
       "      <td>2</td>\n",
       "      <td>2</td>\n",
       "      <td>2</td>\n",
       "      <td>2</td>\n",
       "    </tr>\n",
       "    <tr>\n",
       "      <th>58</th>\n",
       "      <td>4</td>\n",
       "      <td>2</td>\n",
       "      <td>3</td>\n",
       "      <td>1</td>\n",
       "      <td>3</td>\n",
       "      <td>2</td>\n",
       "      <td>1</td>\n",
       "      <td>1</td>\n",
       "      <td>1</td>\n",
       "    </tr>\n",
       "    <tr>\n",
       "      <th>59</th>\n",
       "      <td>2</td>\n",
       "      <td>2</td>\n",
       "      <td>1</td>\n",
       "      <td>2</td>\n",
       "      <td>2</td>\n",
       "      <td>3</td>\n",
       "      <td>1</td>\n",
       "      <td>0</td>\n",
       "      <td>4</td>\n",
       "    </tr>\n",
       "    <tr>\n",
       "      <th>60</th>\n",
       "      <td>1</td>\n",
       "      <td>2</td>\n",
       "      <td>2</td>\n",
       "      <td>0</td>\n",
       "      <td>1</td>\n",
       "      <td>2</td>\n",
       "      <td>2</td>\n",
       "      <td>1</td>\n",
       "      <td>1</td>\n",
       "    </tr>\n",
       "    <tr>\n",
       "      <th>61</th>\n",
       "      <td>5</td>\n",
       "      <td>2</td>\n",
       "      <td>2</td>\n",
       "      <td>3</td>\n",
       "      <td>0</td>\n",
       "      <td>3</td>\n",
       "      <td>2</td>\n",
       "      <td>3</td>\n",
       "      <td>3</td>\n",
       "    </tr>\n",
       "    <tr>\n",
       "      <th>62</th>\n",
       "      <td>2</td>\n",
       "      <td>3</td>\n",
       "      <td>1</td>\n",
       "      <td>3</td>\n",
       "      <td>6</td>\n",
       "      <td>6</td>\n",
       "      <td>3</td>\n",
       "      <td>0</td>\n",
       "      <td>1</td>\n",
       "    </tr>\n",
       "    <tr>\n",
       "      <th>63</th>\n",
       "      <td>4</td>\n",
       "      <td>0</td>\n",
       "      <td>2</td>\n",
       "      <td>1</td>\n",
       "      <td>0</td>\n",
       "      <td>2</td>\n",
       "      <td>1</td>\n",
       "      <td>2</td>\n",
       "      <td>1</td>\n",
       "    </tr>\n",
       "    <tr>\n",
       "      <th>64</th>\n",
       "      <td>4</td>\n",
       "      <td>0</td>\n",
       "      <td>5</td>\n",
       "      <td>5</td>\n",
       "      <td>2</td>\n",
       "      <td>3</td>\n",
       "      <td>3</td>\n",
       "      <td>2</td>\n",
       "      <td>3</td>\n",
       "    </tr>\n",
       "  </tbody>\n",
       "</table>\n",
       "</div>"
      ],
      "text/plain": [
       "time_spent  1  2  3  4  5  6  7  8  9\n",
       "age                                  \n",
       "18          0  4  5  1  2  5  3  2  3\n",
       "19          0  0  3  3  5  3  5  2  3\n",
       "20          2  0  1  2  4  5  7  1  2\n",
       "21          3  1  2  2  1  2  2  3  3\n",
       "22          0  4  4  3  4  2  1  5  2\n",
       "23          1  4  7  4  0  3  1  0  3\n",
       "24          2  0  1  1  3  2  2  2  1\n",
       "25          3  3  1  2  7  2  2  1  2\n",
       "26          3  1  4  3  2  1  1  2  1\n",
       "27          1  4  2  3  3  1  0  0  4\n",
       "28          3  2  0  2  2  0  4  4  3\n",
       "29          6  1  2  1  2  1  3  4  2\n",
       "30          1  2  2  3  3  1  2  3  1\n",
       "31          1  4  3  3  3  1  2  2  0\n",
       "32          2  3  1  3  3  3  2  1  0\n",
       "33          2  4  0  3  3  2  1  5  1\n",
       "34          0  3  3  2  6  0  2  1  5\n",
       "35          2  3  1  0  2  4  0  1  3\n",
       "36          4  2  2  1  3  1  2  1  4\n",
       "37          3  2  1  1  1  6  1  1  2\n",
       "38          2  0  1  3  3  1  3  3  3\n",
       "39          0  5  0  2  2  2  4  4  3\n",
       "40          2  2  3  5  1  4  3  1  3\n",
       "41          2  2  1  2  4  5  3  1  5\n",
       "42          2  3  2  0  4  7  0  4  2\n",
       "43          3  2  4  8  5  1  4  2  4\n",
       "44          2  0  0  4  1  2  2  4  1\n",
       "45          4  2  2  4  5  4  6  2  1\n",
       "46          0  8  6  1  2  0  0  2  0\n",
       "47          3  4  1  2  1  1  4  1  4\n",
       "48          1  0  0  1  3  4  2  4  1\n",
       "49          0  4  2  1  4  1  7  5  1\n",
       "50          2  5  2  6  1  2  5  4  3\n",
       "51          2  2  3  2  2  1  0  5  1\n",
       "52          5  3  4  4  1  2  1  5  3\n",
       "53          0  2  3  2  5  3  1  2  5\n",
       "54          3  4  4  6  2  0  0  5  3\n",
       "55          2  0  3  2  1  1  2  1  4\n",
       "56          1  3  5  4  4  1  2  2  3\n",
       "57          2  3  0  3  1  2  2  2  2\n",
       "58          4  2  3  1  3  2  1  1  1\n",
       "59          2  2  1  2  2  3  1  0  4\n",
       "60          1  2  2  0  1  2  2  1  1\n",
       "61          5  2  2  3  0  3  2  3  3\n",
       "62          2  3  1  3  6  6  3  0  1\n",
       "63          4  0  2  1  0  2  1  2  1\n",
       "64          4  0  5  5  2  3  3  2  3"
      ]
     },
     "execution_count": 24,
     "metadata": {},
     "output_type": "execute_result"
    }
   ],
   "source": [
    "pd.crosstab(mydata['age'],mydata['time_spent'])"
   ]
  },
  {
   "cell_type": "code",
   "execution_count": 25,
   "metadata": {},
   "outputs": [
    {
     "data": {
      "text/html": [
       "<div>\n",
       "<style scoped>\n",
       "    .dataframe tbody tr th:only-of-type {\n",
       "        vertical-align: middle;\n",
       "    }\n",
       "\n",
       "    .dataframe tbody tr th {\n",
       "        vertical-align: top;\n",
       "    }\n",
       "\n",
       "    .dataframe thead th {\n",
       "        text-align: right;\n",
       "    }\n",
       "</style>\n",
       "<table border=\"1\" class=\"dataframe\">\n",
       "  <thead>\n",
       "    <tr style=\"text-align: right;\">\n",
       "      <th>profession</th>\n",
       "      <th>Marketer Manager</th>\n",
       "      <th>Software Engineer</th>\n",
       "      <th>Student</th>\n",
       "    </tr>\n",
       "    <tr>\n",
       "      <th>gender</th>\n",
       "      <th></th>\n",
       "      <th></th>\n",
       "      <th></th>\n",
       "    </tr>\n",
       "  </thead>\n",
       "  <tbody>\n",
       "    <tr>\n",
       "      <th>female</th>\n",
       "      <td>190</td>\n",
       "      <td>163</td>\n",
       "      <td>155</td>\n",
       "    </tr>\n",
       "    <tr>\n",
       "      <th>male</th>\n",
       "      <td>165</td>\n",
       "      <td>173</td>\n",
       "      <td>154</td>\n",
       "    </tr>\n",
       "  </tbody>\n",
       "</table>\n",
       "</div>"
      ],
      "text/plain": [
       "profession  Marketer Manager  Software Engineer  Student\n",
       "gender                                                  \n",
       "female                   190                163      155\n",
       "male                     165                173      154"
      ]
     },
     "execution_count": 25,
     "metadata": {},
     "output_type": "execute_result"
    }
   ],
   "source": [
    "pd.crosstab(mydata['gender'],mydata['profession'] )"
   ]
  },
  {
   "cell_type": "code",
   "execution_count": 26,
   "metadata": {},
   "outputs": [
    {
     "data": {
      "text/html": [
       "<div>\n",
       "<style scoped>\n",
       "    .dataframe tbody tr th:only-of-type {\n",
       "        vertical-align: middle;\n",
       "    }\n",
       "\n",
       "    .dataframe tbody tr th {\n",
       "        vertical-align: top;\n",
       "    }\n",
       "\n",
       "    .dataframe thead th {\n",
       "        text-align: right;\n",
       "    }\n",
       "</style>\n",
       "<table border=\"1\" class=\"dataframe\">\n",
       "  <thead>\n",
       "    <tr style=\"text-align: right;\">\n",
       "      <th>location</th>\n",
       "      <th>Australia</th>\n",
       "      <th>United Kingdom</th>\n",
       "      <th>United States</th>\n",
       "    </tr>\n",
       "    <tr>\n",
       "      <th>gender</th>\n",
       "      <th></th>\n",
       "      <th></th>\n",
       "      <th></th>\n",
       "    </tr>\n",
       "  </thead>\n",
       "  <tbody>\n",
       "    <tr>\n",
       "      <th>female</th>\n",
       "      <td>177</td>\n",
       "      <td>167</td>\n",
       "      <td>164</td>\n",
       "    </tr>\n",
       "    <tr>\n",
       "      <th>male</th>\n",
       "      <td>175</td>\n",
       "      <td>162</td>\n",
       "      <td>155</td>\n",
       "    </tr>\n",
       "  </tbody>\n",
       "</table>\n",
       "</div>"
      ],
      "text/plain": [
       "location  Australia  United Kingdom  United States\n",
       "gender                                            \n",
       "female          177             167            164\n",
       "male            175             162            155"
      ]
     },
     "execution_count": 26,
     "metadata": {},
     "output_type": "execute_result"
    }
   ],
   "source": [
    "pd.crosstab(mydata['gender'],mydata['location'] )"
   ]
  },
  {
   "cell_type": "code",
   "execution_count": 27,
   "metadata": {},
   "outputs": [
    {
     "data": {
      "text/html": [
       "<div>\n",
       "<style scoped>\n",
       "    .dataframe tbody tr th:only-of-type {\n",
       "        vertical-align: middle;\n",
       "    }\n",
       "\n",
       "    .dataframe tbody tr th {\n",
       "        vertical-align: top;\n",
       "    }\n",
       "\n",
       "    .dataframe thead th {\n",
       "        text-align: right;\n",
       "    }\n",
       "</style>\n",
       "<table border=\"1\" class=\"dataframe\">\n",
       "  <thead>\n",
       "    <tr style=\"text-align: right;\">\n",
       "      <th>platform</th>\n",
       "      <th>Facebook</th>\n",
       "      <th>Instagram</th>\n",
       "      <th>YouTube</th>\n",
       "    </tr>\n",
       "    <tr>\n",
       "      <th>gender</th>\n",
       "      <th></th>\n",
       "      <th></th>\n",
       "      <th></th>\n",
       "    </tr>\n",
       "  </thead>\n",
       "  <tbody>\n",
       "    <tr>\n",
       "      <th>female</th>\n",
       "      <td>154</td>\n",
       "      <td>188</td>\n",
       "      <td>166</td>\n",
       "    </tr>\n",
       "    <tr>\n",
       "      <th>male</th>\n",
       "      <td>153</td>\n",
       "      <td>175</td>\n",
       "      <td>164</td>\n",
       "    </tr>\n",
       "  </tbody>\n",
       "</table>\n",
       "</div>"
      ],
      "text/plain": [
       "platform  Facebook  Instagram  YouTube\n",
       "gender                                \n",
       "female         154        188      166\n",
       "male           153        175      164"
      ]
     },
     "execution_count": 27,
     "metadata": {},
     "output_type": "execute_result"
    }
   ],
   "source": [
    "pd.crosstab(mydata['gender'],mydata['platform'] )"
   ]
  },
  {
   "cell_type": "code",
   "execution_count": 28,
   "metadata": {},
   "outputs": [
    {
     "data": {
      "image/png": "[encoded data removed]",
      "text/plain": [
       "<Figure size 1148x500 with 3 Axes>"
      ]
     },
     "metadata": {},
     "output_type": "display_data"
    }
   ],
   "source": [
    "# Create a countplot using catplot for better handling of multiple categorical variables\n",
    "g = sns.catplot(\n",
    "    x=\"location\", hue=\"gender\", col=\"platform\",\n",
    "    data=mydata, kind=\"count\",\n",
    "    height=5, aspect=0.7,\n",
    "    palette=\"viridis\"\n",
    ")\n",
    "plt.show()"
   ]
  },
  {
   "cell_type": "code",
   "execution_count": 34,
   "metadata": {},
   "outputs": [
    {
     "data": {
      "text/html": [
       "<div>\n",
       "<style scoped>\n",
       "    .dataframe tbody tr th:only-of-type {\n",
       "        vertical-align: middle;\n",
       "    }\n",
       "\n",
       "    .dataframe tbody tr th {\n",
       "        vertical-align: top;\n",
       "    }\n",
       "\n",
       "    .dataframe thead tr th {\n",
       "        text-align: left;\n",
       "    }\n",
       "\n",
       "    .dataframe thead tr:last-of-type th {\n",
       "        text-align: right;\n",
       "    }\n",
       "</style>\n",
       "<table border=\"1\" class=\"dataframe\">\n",
       "  <thead>\n",
       "    <tr>\n",
       "      <th></th>\n",
       "      <th></th>\n",
       "      <th colspan=\"9\" halign=\"left\">Owns_Car</th>\n",
       "      <th>age</th>\n",
       "      <th>...</th>\n",
       "      <th>platform</th>\n",
       "      <th colspan=\"9\" halign=\"left\">profession</th>\n",
       "    </tr>\n",
       "    <tr>\n",
       "      <th></th>\n",
       "      <th>time_spent</th>\n",
       "      <th>1</th>\n",
       "      <th>2</th>\n",
       "      <th>3</th>\n",
       "      <th>4</th>\n",
       "      <th>5</th>\n",
       "      <th>6</th>\n",
       "      <th>7</th>\n",
       "      <th>8</th>\n",
       "      <th>9</th>\n",
       "      <th>1</th>\n",
       "      <th>...</th>\n",
       "      <th>9</th>\n",
       "      <th>1</th>\n",
       "      <th>2</th>\n",
       "      <th>3</th>\n",
       "      <th>4</th>\n",
       "      <th>5</th>\n",
       "      <th>6</th>\n",
       "      <th>7</th>\n",
       "      <th>8</th>\n",
       "      <th>9</th>\n",
       "    </tr>\n",
       "    <tr>\n",
       "      <th>location</th>\n",
       "      <th>gender</th>\n",
       "      <th></th>\n",
       "      <th></th>\n",
       "      <th></th>\n",
       "      <th></th>\n",
       "      <th></th>\n",
       "      <th></th>\n",
       "      <th></th>\n",
       "      <th></th>\n",
       "      <th></th>\n",
       "      <th></th>\n",
       "      <th></th>\n",
       "      <th></th>\n",
       "      <th></th>\n",
       "      <th></th>\n",
       "      <th></th>\n",
       "      <th></th>\n",
       "      <th></th>\n",
       "      <th></th>\n",
       "      <th></th>\n",
       "      <th></th>\n",
       "      <th></th>\n",
       "    </tr>\n",
       "  </thead>\n",
       "  <tbody>\n",
       "    <tr>\n",
       "      <th rowspan=\"2\" valign=\"top\">Australia</th>\n",
       "      <th>female</th>\n",
       "      <td>10</td>\n",
       "      <td>22</td>\n",
       "      <td>15</td>\n",
       "      <td>23</td>\n",
       "      <td>22</td>\n",
       "      <td>22</td>\n",
       "      <td>22</td>\n",
       "      <td>26</td>\n",
       "      <td>15</td>\n",
       "      <td>10</td>\n",
       "      <td>...</td>\n",
       "      <td>15</td>\n",
       "      <td>10</td>\n",
       "      <td>22</td>\n",
       "      <td>15</td>\n",
       "      <td>23</td>\n",
       "      <td>22</td>\n",
       "      <td>22</td>\n",
       "      <td>22</td>\n",
       "      <td>26</td>\n",
       "      <td>15</td>\n",
       "    </tr>\n",
       "    <tr>\n",
       "      <th>male</th>\n",
       "      <td>15</td>\n",
       "      <td>19</td>\n",
       "      <td>10</td>\n",
       "      <td>25</td>\n",
       "      <td>25</td>\n",
       "      <td>23</td>\n",
       "      <td>23</td>\n",
       "      <td>15</td>\n",
       "      <td>20</td>\n",
       "      <td>15</td>\n",
       "      <td>...</td>\n",
       "      <td>20</td>\n",
       "      <td>15</td>\n",
       "      <td>19</td>\n",
       "      <td>10</td>\n",
       "      <td>25</td>\n",
       "      <td>25</td>\n",
       "      <td>23</td>\n",
       "      <td>23</td>\n",
       "      <td>15</td>\n",
       "      <td>20</td>\n",
       "    </tr>\n",
       "    <tr>\n",
       "      <th rowspan=\"2\" valign=\"top\">United Kingdom</th>\n",
       "      <th>female</th>\n",
       "      <td>19</td>\n",
       "      <td>22</td>\n",
       "      <td>19</td>\n",
       "      <td>16</td>\n",
       "      <td>23</td>\n",
       "      <td>11</td>\n",
       "      <td>16</td>\n",
       "      <td>21</td>\n",
       "      <td>20</td>\n",
       "      <td>19</td>\n",
       "      <td>...</td>\n",
       "      <td>20</td>\n",
       "      <td>19</td>\n",
       "      <td>22</td>\n",
       "      <td>19</td>\n",
       "      <td>16</td>\n",
       "      <td>23</td>\n",
       "      <td>11</td>\n",
       "      <td>16</td>\n",
       "      <td>21</td>\n",
       "      <td>20</td>\n",
       "    </tr>\n",
       "    <tr>\n",
       "      <th>male</th>\n",
       "      <td>17</td>\n",
       "      <td>18</td>\n",
       "      <td>19</td>\n",
       "      <td>21</td>\n",
       "      <td>22</td>\n",
       "      <td>16</td>\n",
       "      <td>17</td>\n",
       "      <td>17</td>\n",
       "      <td>15</td>\n",
       "      <td>17</td>\n",
       "      <td>...</td>\n",
       "      <td>15</td>\n",
       "      <td>17</td>\n",
       "      <td>18</td>\n",
       "      <td>19</td>\n",
       "      <td>21</td>\n",
       "      <td>22</td>\n",
       "      <td>16</td>\n",
       "      <td>17</td>\n",
       "      <td>17</td>\n",
       "      <td>15</td>\n",
       "    </tr>\n",
       "    <tr>\n",
       "      <th rowspan=\"2\" valign=\"top\">United States</th>\n",
       "      <th>female</th>\n",
       "      <td>23</td>\n",
       "      <td>14</td>\n",
       "      <td>22</td>\n",
       "      <td>16</td>\n",
       "      <td>16</td>\n",
       "      <td>22</td>\n",
       "      <td>14</td>\n",
       "      <td>12</td>\n",
       "      <td>25</td>\n",
       "      <td>23</td>\n",
       "      <td>...</td>\n",
       "      <td>25</td>\n",
       "      <td>23</td>\n",
       "      <td>14</td>\n",
       "      <td>22</td>\n",
       "      <td>16</td>\n",
       "      <td>16</td>\n",
       "      <td>22</td>\n",
       "      <td>14</td>\n",
       "      <td>12</td>\n",
       "      <td>25</td>\n",
       "    </tr>\n",
       "    <tr>\n",
       "      <th>male</th>\n",
       "      <td>15</td>\n",
       "      <td>17</td>\n",
       "      <td>22</td>\n",
       "      <td>19</td>\n",
       "      <td>17</td>\n",
       "      <td>16</td>\n",
       "      <td>15</td>\n",
       "      <td>18</td>\n",
       "      <td>16</td>\n",
       "      <td>15</td>\n",
       "      <td>...</td>\n",
       "      <td>16</td>\n",
       "      <td>15</td>\n",
       "      <td>17</td>\n",
       "      <td>22</td>\n",
       "      <td>19</td>\n",
       "      <td>17</td>\n",
       "      <td>16</td>\n",
       "      <td>15</td>\n",
       "      <td>18</td>\n",
       "      <td>16</td>\n",
       "    </tr>\n",
       "  </tbody>\n",
       "</table>\n",
       "<p>6 rows × 81 columns</p>\n",
       "</div>"
      ],
      "text/plain": [
       "                      Owns_Car                                 age  ...  \\\n",
       "time_spent                   1   2   3   4   5   6   7   8   9   1  ...   \n",
       "location       gender                                               ...   \n",
       "Australia      female       10  22  15  23  22  22  22  26  15  10  ...   \n",
       "               male         15  19  10  25  25  23  23  15  20  15  ...   \n",
       "United Kingdom female       19  22  19  16  23  11  16  21  20  19  ...   \n",
       "               male         17  18  19  21  22  16  17  17  15  17  ...   \n",
       "United States  female       23  14  22  16  16  22  14  12  25  23  ...   \n",
       "               male         15  17  22  19  17  16  15  18  16  15  ...   \n",
       "\n",
       "                      platform profession                                  \n",
       "time_spent                   9          1   2   3   4   5   6   7   8   9  \n",
       "location       gender                                                      \n",
       "Australia      female       15         10  22  15  23  22  22  22  26  15  \n",
       "               male         20         15  19  10  25  25  23  23  15  20  \n",
       "United Kingdom female       20         19  22  19  16  23  11  16  21  20  \n",
       "               male         15         17  18  19  21  22  16  17  17  15  \n",
       "United States  female       25         23  14  22  16  16  22  14  12  25  \n",
       "               male         16         15  17  22  19  17  16  15  18  16  \n",
       "\n",
       "[6 rows x 81 columns]"
      ]
     },
     "execution_count": 34,
     "metadata": {},
     "output_type": "execute_result"
    }
   ],
   "source": [
    "pd.pivot_table(mydata, index=['location', 'gender'], columns=[ 'time_spent'], aggfunc=len)"
   ]
  },
  {
   "cell_type": "code",
   "execution_count": 68,
   "metadata": {},
   "outputs": [],
   "source": [
    "x = st.skewnorm.rvs(1, size=1000)\n"
   ]
  },
  {
   "cell_type": "code",
   "execution_count": 69,
   "metadata": {},
   "outputs": [
    {
     "data": {
      "image/png": "[encoded data removed]",
      "text/plain": [
       "<Figure size 640x480 with 1 Axes>"
      ]
     },
     "metadata": {},
     "output_type": "display_data"
    }
   ],
   "source": [
    "fig, ax = plt.subplots()\n",
    "_ = plt.hist(x, color = 'lightgreen')"
   ]
  },
  {
   "cell_type": "code",
   "execution_count": 70,
   "metadata": {},
   "outputs": [
    {
     "data": {
      "text/plain": [
       "0.5749785546213608"
      ]
     },
     "execution_count": 70,
     "metadata": {},
     "output_type": "execute_result"
    }
   ],
   "source": [
    "xbar = x.mean()\n",
    "xbar"
   ]
  },
  {
   "cell_type": "code",
   "execution_count": 71,
   "metadata": {},
   "outputs": [
    {
     "data": {
      "image/png": "[encoded data removed]",
      "text/plain": [
       "<Figure size 640x480 with 1 Axes>"
      ]
     },
     "metadata": {},
     "output_type": "display_data"
    }
   ],
   "source": [
    "fig, ax = plt.subplots()\n",
    "plt.axvline(x = x.mean(), color='blue')\n",
    "\n",
    "_ = plt.hist(x, color = 'lightgrey')"
   ]
  },
  {
   "cell_type": "code",
   "execution_count": 72,
   "metadata": {},
   "outputs": [
    {
     "data": {
      "text/plain": [
       "0.5496797183511377"
      ]
     },
     "execution_count": 72,
     "metadata": {},
     "output_type": "execute_result"
    }
   ],
   "source": [
    "np.median(x) "
   ]
  },
  {
   "cell_type": "code",
   "execution_count": 73,
   "metadata": {},
   "outputs": [
    {
     "data": {
      "image/png": "[encoded data removed]",
      "text/plain": [
       "<Figure size 640x480 with 1 Axes>"
      ]
     },
     "metadata": {},
     "output_type": "display_data"
    }
   ],
   "source": [
    "fig, ax = plt.subplots()\n",
    "plt.axvline(x = np.mean(x), color='blue')\n",
    "plt.axvline(x = np.median(x), color='red')\n",
    "plt.axvline(x = np.mean(x) + 1.5, color='orange')\n",
    "plt.axvline(x = np.mean(x) - 1.5, color='orange')\n",
    "_ = plt.hist(x, color = 'lightgrey')"
   ]
  },
  {
   "cell_type": "code",
   "execution_count": 74,
   "metadata": {},
   "outputs": [
    {
     "data": {
      "text/plain": [
       "0.7201149692897736"
      ]
     },
     "execution_count": 74,
     "metadata": {},
     "output_type": "execute_result"
    }
   ],
   "source": [
    "x.var()"
   ]
  },
  {
   "cell_type": "code",
   "execution_count": 75,
   "metadata": {},
   "outputs": [
    {
     "data": {
      "text/plain": [
       "0.848595881023337"
      ]
     },
     "execution_count": 75,
     "metadata": {},
     "output_type": "execute_result"
    }
   ],
   "source": [
    "sigma = x.std()\n",
    "sigma"
   ]
  },
  {
   "cell_type": "code",
   "execution_count": 77,
   "metadata": {},
   "outputs": [
    {
     "data": {
      "image/png": "[encoded data removed]",
      "text/plain": [
       "<Figure size 640x480 with 1 Axes>"
      ]
     },
     "metadata": {},
     "output_type": "display_data"
    }
   ],
   "source": [
    "fig, ax = plt.subplots()\n",
    "x = st.skewnorm.rvs(1, size=1000)\n",
    "\n",
    "plt.axvline(x = xbar, color='orange')\n",
    "plt.axvline(x = xbar+sigma, color='purple')\n",
    "plt.axvline(x = xbar-sigma, color='olivedrab')\n",
    "_ = plt.hist(x, color = 'lightgrey')"
   ]
  },
  {
   "cell_type": "code",
   "execution_count": 79,
   "metadata": {},
   "outputs": [
    {
     "data": {
      "text/plain": [
       "0.02683495797071003"
      ]
     },
     "execution_count": 79,
     "metadata": {},
     "output_type": "execute_result"
    }
   ],
   "source": [
    "sigma/(x.size)**(1/2)\n",
    "#### Standard Error"
   ]
  },
  {
   "cell_type": "code",
   "execution_count": 90,
   "metadata": {},
   "outputs": [],
   "source": [
    "x = np.random.normal(size=1000)\n"
   ]
  },
  {
   "cell_type": "code",
   "execution_count": 91,
   "metadata": {},
   "outputs": [
    {
     "data": {
      "image/png": "[encoded data removed]",
      "text/plain": [
       "<Figure size 500x500 with 1 Axes>"
      ]
     },
     "metadata": {},
     "output_type": "display_data"
    }
   ],
   "source": [
    "_ = sns.displot(x, kde=True)"
   ]
  },
  {
   "cell_type": "code",
   "execution_count": 103,
   "metadata": {},
   "outputs": [
    {
     "data": {
      "text/plain": [
       "array([ 9.67860469e-01,  5.64656190e-01,  4.55565441e-01,  1.14138834e+00,\n",
       "        2.42515243e-01,  2.81334334e-01, -9.43655547e-01, -1.62995984e-02,\n",
       "        8.76307208e-02, -6.41310538e-01,  1.15085734e+00,  2.71038162e-01,\n",
       "        9.04322004e-01, -3.91954212e-01, -2.08437328e+00,  2.07772113e-01,\n",
       "        4.13165341e-02, -1.04624908e-02, -9.89556587e-01,  8.79022042e-01,\n",
       "        1.24849273e+00,  9.59301877e-01, -7.80508792e-01, -5.64797337e-01,\n",
       "        7.36762819e-01,  2.65762983e-01, -4.93692154e-01, -5.44243655e-01,\n",
       "        7.46902134e-01, -8.25940025e-01, -1.35356720e+00,  7.04383433e-01,\n",
       "        2.74044165e-04,  3.02161281e-01,  1.11439088e+00, -5.18159276e-01,\n",
       "        1.92419001e-01,  1.55218371e+00,  3.06660142e-01, -6.58309994e-01,\n",
       "        9.19974954e-02,  1.01390440e+00,  2.42411964e-01, -5.21032189e-02,\n",
       "        9.06627333e-01, -1.31732823e+00,  3.13311865e-01, -1.12702536e-01,\n",
       "       -1.03659180e+00,  7.78747272e-01])"
      ]
     },
     "execution_count": 103,
     "metadata": {},
     "output_type": "execute_result"
    }
   ],
   "source": [
    "x_sample = np.random.choice(x, size=50, replace=False)\n",
    "x_sample"
   ]
  },
  {
   "cell_type": "code",
   "execution_count": 104,
   "metadata": {},
   "outputs": [
    {
     "data": {
      "text/plain": [
       "0.10672835614605276"
      ]
     },
     "execution_count": 104,
     "metadata": {},
     "output_type": "execute_result"
    }
   ],
   "source": [
    "x_sample.mean()"
   ]
  },
  {
   "cell_type": "code",
   "execution_count": 105,
   "metadata": {},
   "outputs": [],
   "source": [
    "def sample_mean_calculator(input_dist, sample_size, n_samples):\n",
    "    sample_means = []\n",
    "    for i in range(n_samples):\n",
    "        sample = np.random.choice(input_dist, size=sample_size, replace=False)\n",
    "        sample_means.append(sample.mean())\n",
    "    return sample_means"
   ]
  },
  {
   "cell_type": "code",
   "execution_count": 124,
   "metadata": {},
   "outputs": [
    {
     "data": {
      "image/png": "[encoded data removed]",
      "text/plain": [
       "<Figure size 500x500 with 1 Axes>"
      ]
     },
     "metadata": {},
     "output_type": "display_data"
    }
   ],
   "source": [
    "sns.displot(sample_mean_calculator(x, 10, 80), color='red', kde=True)\n",
    "\n",
    "_ = plt.xlim(-1.5, 1.5)"
   ]
  },
  {
   "cell_type": "code",
   "execution_count": 143,
   "metadata": {},
   "outputs": [],
   "source": [
    "m = np.concatenate((np.random.normal(loc = 1.0, size=500), np.random.normal(loc =5.0, size=1000)))"
   ]
  },
  {
   "cell_type": "code",
   "execution_count": 144,
   "metadata": {},
   "outputs": [
    {
     "data": {
      "image/png": "[encoded data removed]",
      "text/plain": [
       "<Figure size 500x500 with 1 Axes>"
      ]
     },
     "metadata": {},
     "output_type": "display_data"
    }
   ],
   "source": [
    "_ = sns.displot(m, kde=False ,color=\"Blue\")"
   ]
  },
  {
   "cell_type": "code",
   "execution_count": 145,
   "metadata": {},
   "outputs": [],
   "source": [
    "time_spend = 2\n",
    "mu = 5\n",
    "sigma = 3"
   ]
  },
  {
   "cell_type": "code",
   "execution_count": 146,
   "metadata": {},
   "outputs": [],
   "source": [
    "x = np.random.normal(mu, sigma, 1000)"
   ]
  },
  {
   "cell_type": "code",
   "execution_count": 148,
   "metadata": {},
   "outputs": [
    {
     "data": {
      "text/plain": [
       "-1.0828029954502447"
      ]
     },
     "execution_count": 148,
     "metadata": {},
     "output_type": "execute_result"
    }
   ],
   "source": [
    "z = (time_spend - np.mean(x))/np.std(x)\n",
    "z"
   ]
  },
  {
   "cell_type": "code",
   "execution_count": 149,
   "metadata": {},
   "outputs": [
    {
     "data": {
      "text/plain": [
       "862"
      ]
     },
     "execution_count": 149,
     "metadata": {},
     "output_type": "execute_result"
    }
   ],
   "source": [
    "len(np.where(x > 2)[0])"
   ]
  },
  {
   "cell_type": "code",
   "execution_count": 150,
   "metadata": {},
   "outputs": [
    {
     "data": {
      "text/plain": [
       "138"
      ]
     },
     "execution_count": 150,
     "metadata": {},
     "output_type": "execute_result"
    }
   ],
   "source": [
    "len(np.where(x < 2)[0])"
   ]
  },
  {
   "cell_type": "code",
   "execution_count": 151,
   "metadata": {},
   "outputs": [
    {
     "data": {
      "text/plain": [
       "0.006209665325776132"
      ]
     },
     "execution_count": 151,
     "metadata": {},
     "output_type": "execute_result"
    }
   ],
   "source": [
    "p_below = st.norm.cdf(-2.5)\n",
    "p_below"
   ]
  },
  {
   "cell_type": "code",
   "execution_count": 152,
   "metadata": {},
   "outputs": [
    {
     "data": {
      "text/plain": [
       "6.2096653257761325"
      ]
     },
     "execution_count": 152,
     "metadata": {},
     "output_type": "execute_result"
    }
   ],
   "source": [
    "p_below*1000"
   ]
  },
  {
   "cell_type": "code",
   "execution_count": 153,
   "metadata": {},
   "outputs": [
    {
     "data": {
      "text/plain": [
       "0.006209665325776159"
      ]
     },
     "execution_count": 153,
     "metadata": {},
     "output_type": "execute_result"
    }
   ],
   "source": [
    "p_above = 1-st.norm.cdf(2.5)\n",
    "p_above"
   ]
  },
  {
   "cell_type": "code",
   "execution_count": 154,
   "metadata": {},
   "outputs": [
    {
     "data": {
      "text/plain": [
       "6.209665325776159"
      ]
     },
     "execution_count": 154,
     "metadata": {},
     "output_type": "execute_result"
    }
   ],
   "source": [
    "p_above*1000"
   ]
  },
  {
   "cell_type": "code",
   "execution_count": 155,
   "metadata": {},
   "outputs": [
    {
     "data": {
      "text/plain": [
       "0.01241933065155229"
      ]
     },
     "execution_count": 155,
     "metadata": {},
     "output_type": "execute_result"
    }
   ],
   "source": [
    "p_outside = p_below + p_above\n",
    "p_outside"
   ]
  },
  {
   "cell_type": "code",
   "execution_count": 156,
   "metadata": {},
   "outputs": [
    {
     "data": {
      "text/plain": [
       "12.41933065155229"
      ]
     },
     "execution_count": 156,
     "metadata": {},
     "output_type": "execute_result"
    }
   ],
   "source": [
    "p_outside*1000"
   ]
  },
  {
   "cell_type": "code",
   "execution_count": 159,
   "metadata": {},
   "outputs": [
    {
     "data": {
      "text/plain": [
       "0.09273216124363139"
      ]
     },
     "execution_count": 159,
     "metadata": {},
     "output_type": "execute_result"
    }
   ],
   "source": [
    "sx = st.sem(x)\n",
    "sx\n",
    "#standerd Error"
   ]
  },
  {
   "cell_type": "code",
   "execution_count": 158,
   "metadata": {},
   "outputs": [
    {
     "data": {
      "text/plain": [
       "-47.71830383369328"
      ]
     },
     "execution_count": 158,
     "metadata": {},
     "output_type": "execute_result"
    }
   ],
   "source": [
    "t = (xbar-mu)/sx\n",
    "t"
   ]
  },
  {
   "cell_type": "code",
   "execution_count": 166,
   "metadata": {},
   "outputs": [
    {
     "data": {
      "text/plain": [
       "TtestResult(statistic=1.8728766856812344, pvalue=0.06137728335815082, df=999)"
      ]
     },
     "execution_count": 166,
     "metadata": {},
     "output_type": "execute_result"
    }
   ],
   "source": [
    "st.ttest_1samp(x, 5)"
   ]
  },
  {
   "cell_type": "code",
   "execution_count": 168,
   "metadata": {},
   "outputs": [],
   "source": [
    "# Load your social media data using Pandas (replace 'your_file.csv' with your actual file path)\n",
    "Social = pd.read_csv('Social_media_data.csv')\n",
    "\n",
    "# Drop rows with missing data\n",
    "Social = Social.dropna()"
   ]
  },
  {
   "cell_type": "code",
   "execution_count": 169,
   "metadata": {},
   "outputs": [
    {
     "data": {
      "text/html": [
       "<div>\n",
       "<style scoped>\n",
       "    .dataframe tbody tr th:only-of-type {\n",
       "        vertical-align: middle;\n",
       "    }\n",
       "\n",
       "    .dataframe tbody tr th {\n",
       "        vertical-align: top;\n",
       "    }\n",
       "\n",
       "    .dataframe thead th {\n",
       "        text-align: right;\n",
       "    }\n",
       "</style>\n",
       "<table border=\"1\" class=\"dataframe\">\n",
       "  <thead>\n",
       "    <tr style=\"text-align: right;\">\n",
       "      <th></th>\n",
       "      <th>age</th>\n",
       "      <th>gender</th>\n",
       "      <th>time_spent</th>\n",
       "      <th>platform</th>\n",
       "      <th>interests</th>\n",
       "      <th>location</th>\n",
       "      <th>demographics</th>\n",
       "      <th>profession</th>\n",
       "      <th>income</th>\n",
       "      <th>indebt</th>\n",
       "      <th>isHomeOwner</th>\n",
       "      <th>Owns_Car</th>\n",
       "    </tr>\n",
       "  </thead>\n",
       "  <tbody>\n",
       "    <tr>\n",
       "      <th>0</th>\n",
       "      <td>56</td>\n",
       "      <td>male</td>\n",
       "      <td>3</td>\n",
       "      <td>Instagram</td>\n",
       "      <td>Sports</td>\n",
       "      <td>United Kingdom</td>\n",
       "      <td>Urban</td>\n",
       "      <td>Software Engineer</td>\n",
       "      <td>19774</td>\n",
       "      <td>True</td>\n",
       "      <td>False</td>\n",
       "      <td>False</td>\n",
       "    </tr>\n",
       "    <tr>\n",
       "      <th>1</th>\n",
       "      <td>46</td>\n",
       "      <td>female</td>\n",
       "      <td>2</td>\n",
       "      <td>Facebook</td>\n",
       "      <td>Travel</td>\n",
       "      <td>United Kingdom</td>\n",
       "      <td>Urban</td>\n",
       "      <td>Student</td>\n",
       "      <td>10564</td>\n",
       "      <td>True</td>\n",
       "      <td>True</td>\n",
       "      <td>True</td>\n",
       "    </tr>\n",
       "    <tr>\n",
       "      <th>2</th>\n",
       "      <td>32</td>\n",
       "      <td>female</td>\n",
       "      <td>8</td>\n",
       "      <td>Instagram</td>\n",
       "      <td>Sports</td>\n",
       "      <td>Australia</td>\n",
       "      <td>Sub_Urban</td>\n",
       "      <td>Marketer Manager</td>\n",
       "      <td>13258</td>\n",
       "      <td>False</td>\n",
       "      <td>False</td>\n",
       "      <td>False</td>\n",
       "    </tr>\n",
       "    <tr>\n",
       "      <th>3</th>\n",
       "      <td>60</td>\n",
       "      <td>male</td>\n",
       "      <td>5</td>\n",
       "      <td>Instagram</td>\n",
       "      <td>Travel</td>\n",
       "      <td>United Kingdom</td>\n",
       "      <td>Urban</td>\n",
       "      <td>Student</td>\n",
       "      <td>12500</td>\n",
       "      <td>False</td>\n",
       "      <td>True</td>\n",
       "      <td>False</td>\n",
       "    </tr>\n",
       "    <tr>\n",
       "      <th>4</th>\n",
       "      <td>25</td>\n",
       "      <td>female</td>\n",
       "      <td>1</td>\n",
       "      <td>Instagram</td>\n",
       "      <td>Lifestlye</td>\n",
       "      <td>Australia</td>\n",
       "      <td>Urban</td>\n",
       "      <td>Software Engineer</td>\n",
       "      <td>14566</td>\n",
       "      <td>False</td>\n",
       "      <td>True</td>\n",
       "      <td>True</td>\n",
       "    </tr>\n",
       "    <tr>\n",
       "      <th>...</th>\n",
       "      <td>...</td>\n",
       "      <td>...</td>\n",
       "      <td>...</td>\n",
       "      <td>...</td>\n",
       "      <td>...</td>\n",
       "      <td>...</td>\n",
       "      <td>...</td>\n",
       "      <td>...</td>\n",
       "      <td>...</td>\n",
       "      <td>...</td>\n",
       "      <td>...</td>\n",
       "      <td>...</td>\n",
       "    </tr>\n",
       "    <tr>\n",
       "      <th>995</th>\n",
       "      <td>22</td>\n",
       "      <td>female</td>\n",
       "      <td>8</td>\n",
       "      <td>Instagram</td>\n",
       "      <td>Lifestlye</td>\n",
       "      <td>United Kingdom</td>\n",
       "      <td>Rural</td>\n",
       "      <td>Marketer Manager</td>\n",
       "      <td>18536</td>\n",
       "      <td>False</td>\n",
       "      <td>True</td>\n",
       "      <td>False</td>\n",
       "    </tr>\n",
       "    <tr>\n",
       "      <th>996</th>\n",
       "      <td>40</td>\n",
       "      <td>male</td>\n",
       "      <td>6</td>\n",
       "      <td>YouTube</td>\n",
       "      <td>Travel</td>\n",
       "      <td>United Kingdom</td>\n",
       "      <td>Rural</td>\n",
       "      <td>Software Engineer</td>\n",
       "      <td>12711</td>\n",
       "      <td>True</td>\n",
       "      <td>False</td>\n",
       "      <td>False</td>\n",
       "    </tr>\n",
       "    <tr>\n",
       "      <th>997</th>\n",
       "      <td>27</td>\n",
       "      <td>male</td>\n",
       "      <td>5</td>\n",
       "      <td>YouTube</td>\n",
       "      <td>Travel</td>\n",
       "      <td>United Kingdom</td>\n",
       "      <td>Rural</td>\n",
       "      <td>Student</td>\n",
       "      <td>17595</td>\n",
       "      <td>True</td>\n",
       "      <td>False</td>\n",
       "      <td>True</td>\n",
       "    </tr>\n",
       "    <tr>\n",
       "      <th>998</th>\n",
       "      <td>61</td>\n",
       "      <td>female</td>\n",
       "      <td>4</td>\n",
       "      <td>YouTube</td>\n",
       "      <td>Sports</td>\n",
       "      <td>Australia</td>\n",
       "      <td>Sub_Urban</td>\n",
       "      <td>Marketer Manager</td>\n",
       "      <td>16273</td>\n",
       "      <td>True</td>\n",
       "      <td>True</td>\n",
       "      <td>False</td>\n",
       "    </tr>\n",
       "    <tr>\n",
       "      <th>999</th>\n",
       "      <td>19</td>\n",
       "      <td>male</td>\n",
       "      <td>8</td>\n",
       "      <td>YouTube</td>\n",
       "      <td>Travel</td>\n",
       "      <td>Australia</td>\n",
       "      <td>Rural</td>\n",
       "      <td>Student</td>\n",
       "      <td>16284</td>\n",
       "      <td>False</td>\n",
       "      <td>True</td>\n",
       "      <td>False</td>\n",
       "    </tr>\n",
       "  </tbody>\n",
       "</table>\n",
       "<p>1000 rows × 12 columns</p>\n",
       "</div>"
      ],
      "text/plain": [
       "     age  gender  time_spent   platform  interests        location  \\\n",
       "0     56    male           3  Instagram     Sports  United Kingdom   \n",
       "1     46  female           2   Facebook     Travel  United Kingdom   \n",
       "2     32  female           8  Instagram     Sports       Australia   \n",
       "3     60    male           5  Instagram     Travel  United Kingdom   \n",
       "4     25  female           1  Instagram  Lifestlye       Australia   \n",
       "..   ...     ...         ...        ...        ...             ...   \n",
       "995   22  female           8  Instagram  Lifestlye  United Kingdom   \n",
       "996   40    male           6    YouTube     Travel  United Kingdom   \n",
       "997   27    male           5    YouTube     Travel  United Kingdom   \n",
       "998   61  female           4    YouTube     Sports       Australia   \n",
       "999   19    male           8    YouTube     Travel       Australia   \n",
       "\n",
       "    demographics         profession  income  indebt  isHomeOwner  Owns_Car  \n",
       "0          Urban  Software Engineer   19774    True        False     False  \n",
       "1          Urban            Student   10564    True         True      True  \n",
       "2      Sub_Urban   Marketer Manager   13258   False        False     False  \n",
       "3          Urban            Student   12500   False         True     False  \n",
       "4          Urban  Software Engineer   14566   False         True      True  \n",
       "..           ...                ...     ...     ...          ...       ...  \n",
       "995        Rural   Marketer Manager   18536   False         True     False  \n",
       "996        Rural  Software Engineer   12711    True        False     False  \n",
       "997        Rural            Student   17595    True        False      True  \n",
       "998    Sub_Urban   Marketer Manager   16273    True         True     False  \n",
       "999        Rural            Student   16284   False         True     False  \n",
       "\n",
       "[1000 rows x 12 columns]"
      ]
     },
     "execution_count": 169,
     "metadata": {},
     "output_type": "execute_result"
    }
   ],
   "source": [
    "Social"
   ]
  },
  {
   "cell_type": "code",
   "execution_count": 170,
   "metadata": {},
   "outputs": [
    {
     "data": {
      "text/plain": [
       "(array(['Australia', 'United Kingdom', 'United States'], dtype=object),\n",
       " array([352, 329, 319], dtype=int64))"
      ]
     },
     "execution_count": 170,
     "metadata": {},
     "output_type": "execute_result"
    }
   ],
   "source": [
    "np.unique(Social.location, return_counts=True)"
   ]
  },
  {
   "cell_type": "code",
   "execution_count": 171,
   "metadata": {},
   "outputs": [],
   "source": [
    "Australia = Social[Social.location == 'Australia']"
   ]
  },
  {
   "cell_type": "code",
   "execution_count": 172,
   "metadata": {},
   "outputs": [
    {
     "data": {
      "text/html": [
       "<div>\n",
       "<style scoped>\n",
       "    .dataframe tbody tr th:only-of-type {\n",
       "        vertical-align: middle;\n",
       "    }\n",
       "\n",
       "    .dataframe tbody tr th {\n",
       "        vertical-align: top;\n",
       "    }\n",
       "\n",
       "    .dataframe thead th {\n",
       "        text-align: right;\n",
       "    }\n",
       "</style>\n",
       "<table border=\"1\" class=\"dataframe\">\n",
       "  <thead>\n",
       "    <tr style=\"text-align: right;\">\n",
       "      <th></th>\n",
       "      <th>age</th>\n",
       "      <th>gender</th>\n",
       "      <th>time_spent</th>\n",
       "      <th>platform</th>\n",
       "      <th>interests</th>\n",
       "      <th>location</th>\n",
       "      <th>demographics</th>\n",
       "      <th>profession</th>\n",
       "      <th>income</th>\n",
       "      <th>indebt</th>\n",
       "      <th>isHomeOwner</th>\n",
       "      <th>Owns_Car</th>\n",
       "    </tr>\n",
       "  </thead>\n",
       "  <tbody>\n",
       "    <tr>\n",
       "      <th>2</th>\n",
       "      <td>32</td>\n",
       "      <td>female</td>\n",
       "      <td>8</td>\n",
       "      <td>Instagram</td>\n",
       "      <td>Sports</td>\n",
       "      <td>Australia</td>\n",
       "      <td>Sub_Urban</td>\n",
       "      <td>Marketer Manager</td>\n",
       "      <td>13258</td>\n",
       "      <td>False</td>\n",
       "      <td>False</td>\n",
       "      <td>False</td>\n",
       "    </tr>\n",
       "    <tr>\n",
       "      <th>4</th>\n",
       "      <td>25</td>\n",
       "      <td>female</td>\n",
       "      <td>1</td>\n",
       "      <td>Instagram</td>\n",
       "      <td>Lifestlye</td>\n",
       "      <td>Australia</td>\n",
       "      <td>Urban</td>\n",
       "      <td>Software Engineer</td>\n",
       "      <td>14566</td>\n",
       "      <td>False</td>\n",
       "      <td>True</td>\n",
       "      <td>True</td>\n",
       "    </tr>\n",
       "    <tr>\n",
       "      <th>7</th>\n",
       "      <td>36</td>\n",
       "      <td>female</td>\n",
       "      <td>4</td>\n",
       "      <td>Instagram</td>\n",
       "      <td>Sports</td>\n",
       "      <td>Australia</td>\n",
       "      <td>Urban</td>\n",
       "      <td>Marketer Manager</td>\n",
       "      <td>13636</td>\n",
       "      <td>True</td>\n",
       "      <td>False</td>\n",
       "      <td>True</td>\n",
       "    </tr>\n",
       "    <tr>\n",
       "      <th>8</th>\n",
       "      <td>40</td>\n",
       "      <td>female</td>\n",
       "      <td>7</td>\n",
       "      <td>YouTube</td>\n",
       "      <td>Lifestlye</td>\n",
       "      <td>Australia</td>\n",
       "      <td>Sub_Urban</td>\n",
       "      <td>Marketer Manager</td>\n",
       "      <td>16030</td>\n",
       "      <td>False</td>\n",
       "      <td>False</td>\n",
       "      <td>True</td>\n",
       "    </tr>\n",
       "    <tr>\n",
       "      <th>9</th>\n",
       "      <td>28</td>\n",
       "      <td>female</td>\n",
       "      <td>2</td>\n",
       "      <td>Instagram</td>\n",
       "      <td>Sports</td>\n",
       "      <td>Australia</td>\n",
       "      <td>Sub_Urban</td>\n",
       "      <td>Marketer Manager</td>\n",
       "      <td>10223</td>\n",
       "      <td>True</td>\n",
       "      <td>False</td>\n",
       "      <td>True</td>\n",
       "    </tr>\n",
       "    <tr>\n",
       "      <th>...</th>\n",
       "      <td>...</td>\n",
       "      <td>...</td>\n",
       "      <td>...</td>\n",
       "      <td>...</td>\n",
       "      <td>...</td>\n",
       "      <td>...</td>\n",
       "      <td>...</td>\n",
       "      <td>...</td>\n",
       "      <td>...</td>\n",
       "      <td>...</td>\n",
       "      <td>...</td>\n",
       "      <td>...</td>\n",
       "    </tr>\n",
       "    <tr>\n",
       "      <th>990</th>\n",
       "      <td>60</td>\n",
       "      <td>male</td>\n",
       "      <td>9</td>\n",
       "      <td>YouTube</td>\n",
       "      <td>Lifestlye</td>\n",
       "      <td>Australia</td>\n",
       "      <td>Urban</td>\n",
       "      <td>Student</td>\n",
       "      <td>14335</td>\n",
       "      <td>True</td>\n",
       "      <td>True</td>\n",
       "      <td>True</td>\n",
       "    </tr>\n",
       "    <tr>\n",
       "      <th>991</th>\n",
       "      <td>20</td>\n",
       "      <td>male</td>\n",
       "      <td>7</td>\n",
       "      <td>Facebook</td>\n",
       "      <td>Travel</td>\n",
       "      <td>Australia</td>\n",
       "      <td>Sub_Urban</td>\n",
       "      <td>Software Engineer</td>\n",
       "      <td>18281</td>\n",
       "      <td>False</td>\n",
       "      <td>False</td>\n",
       "      <td>True</td>\n",
       "    </tr>\n",
       "    <tr>\n",
       "      <th>992</th>\n",
       "      <td>50</td>\n",
       "      <td>male</td>\n",
       "      <td>9</td>\n",
       "      <td>YouTube</td>\n",
       "      <td>Travel</td>\n",
       "      <td>Australia</td>\n",
       "      <td>Urban</td>\n",
       "      <td>Software Engineer</td>\n",
       "      <td>18648</td>\n",
       "      <td>True</td>\n",
       "      <td>True</td>\n",
       "      <td>True</td>\n",
       "    </tr>\n",
       "    <tr>\n",
       "      <th>998</th>\n",
       "      <td>61</td>\n",
       "      <td>female</td>\n",
       "      <td>4</td>\n",
       "      <td>YouTube</td>\n",
       "      <td>Sports</td>\n",
       "      <td>Australia</td>\n",
       "      <td>Sub_Urban</td>\n",
       "      <td>Marketer Manager</td>\n",
       "      <td>16273</td>\n",
       "      <td>True</td>\n",
       "      <td>True</td>\n",
       "      <td>False</td>\n",
       "    </tr>\n",
       "    <tr>\n",
       "      <th>999</th>\n",
       "      <td>19</td>\n",
       "      <td>male</td>\n",
       "      <td>8</td>\n",
       "      <td>YouTube</td>\n",
       "      <td>Travel</td>\n",
       "      <td>Australia</td>\n",
       "      <td>Rural</td>\n",
       "      <td>Student</td>\n",
       "      <td>16284</td>\n",
       "      <td>False</td>\n",
       "      <td>True</td>\n",
       "      <td>False</td>\n",
       "    </tr>\n",
       "  </tbody>\n",
       "</table>\n",
       "<p>352 rows × 12 columns</p>\n",
       "</div>"
      ],
      "text/plain": [
       "     age  gender  time_spent   platform  interests   location demographics  \\\n",
       "2     32  female           8  Instagram     Sports  Australia    Sub_Urban   \n",
       "4     25  female           1  Instagram  Lifestlye  Australia        Urban   \n",
       "7     36  female           4  Instagram     Sports  Australia        Urban   \n",
       "8     40  female           7    YouTube  Lifestlye  Australia    Sub_Urban   \n",
       "9     28  female           2  Instagram     Sports  Australia    Sub_Urban   \n",
       "..   ...     ...         ...        ...        ...        ...          ...   \n",
       "990   60    male           9    YouTube  Lifestlye  Australia        Urban   \n",
       "991   20    male           7   Facebook     Travel  Australia    Sub_Urban   \n",
       "992   50    male           9    YouTube     Travel  Australia        Urban   \n",
       "998   61  female           4    YouTube     Sports  Australia    Sub_Urban   \n",
       "999   19    male           8    YouTube     Travel  Australia        Rural   \n",
       "\n",
       "            profession  income  indebt  isHomeOwner  Owns_Car  \n",
       "2     Marketer Manager   13258   False        False     False  \n",
       "4    Software Engineer   14566   False         True      True  \n",
       "7     Marketer Manager   13636    True        False      True  \n",
       "8     Marketer Manager   16030   False        False      True  \n",
       "9     Marketer Manager   10223    True        False      True  \n",
       "..                 ...     ...     ...          ...       ...  \n",
       "990            Student   14335    True         True      True  \n",
       "991  Software Engineer   18281   False        False      True  \n",
       "992  Software Engineer   18648    True         True      True  \n",
       "998   Marketer Manager   16273    True         True     False  \n",
       "999            Student   16284   False         True     False  \n",
       "\n",
       "[352 rows x 12 columns]"
      ]
     },
     "execution_count": 172,
     "metadata": {},
     "output_type": "execute_result"
    }
   ],
   "source": [
    "Australia"
   ]
  },
  {
   "cell_type": "code",
   "execution_count": 173,
   "metadata": {},
   "outputs": [
    {
     "data": {
      "text/plain": [
       "(array(['Facebook', 'Instagram', 'YouTube'], dtype=object),\n",
       " array([106, 125, 121], dtype=int64))"
      ]
     },
     "execution_count": 173,
     "metadata": {},
     "output_type": "execute_result"
    }
   ],
   "source": [
    "np.unique(Australia.platform, return_counts=True)"
   ]
  },
  {
   "cell_type": "code",
   "execution_count": 174,
   "metadata": {},
   "outputs": [
    {
     "data": {
      "text/plain": [
       "(array(['female', 'male'], dtype=object), array([177, 175], dtype=int64))"
      ]
     },
     "execution_count": 174,
     "metadata": {},
     "output_type": "execute_result"
    }
   ],
   "source": [
    "np.unique(Australia.gender, return_counts=True)"
   ]
  },
  {
   "cell_type": "code",
   "execution_count": 175,
   "metadata": {},
   "outputs": [
    {
     "data": {
      "image/png": "[encoded data removed]",
      "text/plain": [
       "<Figure size 640x480 with 1 Axes>"
      ]
     },
     "metadata": {},
     "output_type": "display_data"
    }
   ],
   "source": [
    "_ = sns.boxplot(x='platform', y='time_spent', hue='gender', data=Australia)"
   ]
  }
 ],
 "metadata": {
  "kernelspec": {
   "display_name": "Python 3 (ipykernel)",
   "language": "python",
   "name": "python3"
  },
  "language_info": {
   "codemirror_mode": {
    "name": "ipython",
    "version": 3
   },
   "file_extension": ".py",
   "mimetype": "text/x-python",
   "name": "python",
   "nbconvert_exporter": "python",
   "pygments_lexer": "ipython3",
   "version": "3.11.8"
  }
 },
 "nbformat": 4,
 "nbformat_minor": 4
}
